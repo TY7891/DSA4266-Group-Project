{
 "cells": [
  {
   "cell_type": "code",
   "execution_count": 1,
   "id": "43f6a3e7",
   "metadata": {},
   "outputs": [],
   "source": [
    "import gzip\n",
    "import json\n",
    "import pandas as pd\n",
    "import matplotlib.pyplot as plt\n",
    "import numpy as np\n",
    "import seaborn as sns\n",
    "# Read dataset0.json.gz file\n",
    "\n",
    "objs = []\n",
    "\n",
    "with gzip.open(\"dataset0.json.gz\", 'rt') as f:\n",
    "            for line in f:\n",
    "               objs.append(json.loads(line))"
   ]
  },
  {
   "cell_type": "code",
   "execution_count": 2,
   "id": "057ecbac",
   "metadata": {},
   "outputs": [],
   "source": [
    "# Read data.info table\n",
    "data = pd.read_csv(\"data.info\")\n",
    "data = pd.DataFrame(data)\n",
    "\n",
    "\n",
    "rows = []\n",
    "for i in range(len(objs)):\n",
    "    for transcript_id, inner_dict in objs[i].items():\n",
    "        for position, inner_list in inner_dict.items():\n",
    "            for necleotides, sublist in inner_list.items():\n",
    "                for subsublist in sublist:\n",
    "                    rows.append([transcript_id, position, necleotides] + subsublist)\n",
    "\n",
    "\n",
    "df = pd.DataFrame(rows, columns=[\"transcript_id\", \"transcript_position\", \"combined nucleotides\", \"dwelling_time1\", \"sd1\", \"mean1\", \"dwelling_time2\", \"sd2\", \"mean2\", \"dwelling_time3\", \"sd3\", \"mean3\"])\n",
    "\n",
    "df['transcript_position'] = df['transcript_position'].astype(int)\n",
    "data['transcript_position'] = data['transcript_position'].astype(int)\n",
    "\n",
    "df = pd.merge(df, data, on=['transcript_id', 'transcript_position'], how='inner')"
   ]
  },
  {
   "cell_type": "code",
   "execution_count": 3,
   "id": "f2861d98",
   "metadata": {
    "scrolled": true
   },
   "outputs": [
    {
     "data": {
      "text/html": [
       "<div>\n",
       "<style scoped>\n",
       "    .dataframe tbody tr th:only-of-type {\n",
       "        vertical-align: middle;\n",
       "    }\n",
       "\n",
       "    .dataframe tbody tr th {\n",
       "        vertical-align: top;\n",
       "    }\n",
       "\n",
       "    .dataframe thead th {\n",
       "        text-align: right;\n",
       "    }\n",
       "</style>\n",
       "<table border=\"1\" class=\"dataframe\">\n",
       "  <thead>\n",
       "    <tr style=\"text-align: right;\">\n",
       "      <th></th>\n",
       "      <th>transcript_id</th>\n",
       "      <th>transcript_position</th>\n",
       "      <th>combined nucleotides</th>\n",
       "      <th>dwelling_time1</th>\n",
       "      <th>sd1</th>\n",
       "      <th>mean1</th>\n",
       "      <th>dwelling_time2</th>\n",
       "      <th>sd2</th>\n",
       "      <th>mean2</th>\n",
       "      <th>dwelling_time3</th>\n",
       "      <th>sd3</th>\n",
       "      <th>mean3</th>\n",
       "      <th>gene_id</th>\n",
       "      <th>label</th>\n",
       "    </tr>\n",
       "  </thead>\n",
       "  <tbody>\n",
       "    <tr>\n",
       "      <th>0</th>\n",
       "      <td>ENST00000000233</td>\n",
       "      <td>244</td>\n",
       "      <td>AAGACCA</td>\n",
       "      <td>0.00299</td>\n",
       "      <td>2.06</td>\n",
       "      <td>125.0</td>\n",
       "      <td>0.01770</td>\n",
       "      <td>10.40</td>\n",
       "      <td>122.0</td>\n",
       "      <td>0.00930</td>\n",
       "      <td>10.90</td>\n",
       "      <td>84.1</td>\n",
       "      <td>ENSG00000004059</td>\n",
       "      <td>0</td>\n",
       "    </tr>\n",
       "    <tr>\n",
       "      <th>1</th>\n",
       "      <td>ENST00000000233</td>\n",
       "      <td>244</td>\n",
       "      <td>AAGACCA</td>\n",
       "      <td>0.00631</td>\n",
       "      <td>2.53</td>\n",
       "      <td>125.0</td>\n",
       "      <td>0.00844</td>\n",
       "      <td>4.67</td>\n",
       "      <td>126.0</td>\n",
       "      <td>0.01030</td>\n",
       "      <td>6.30</td>\n",
       "      <td>80.9</td>\n",
       "      <td>ENSG00000004059</td>\n",
       "      <td>0</td>\n",
       "    </tr>\n",
       "    <tr>\n",
       "      <th>2</th>\n",
       "      <td>ENST00000000233</td>\n",
       "      <td>244</td>\n",
       "      <td>AAGACCA</td>\n",
       "      <td>0.00465</td>\n",
       "      <td>3.92</td>\n",
       "      <td>109.0</td>\n",
       "      <td>0.01360</td>\n",
       "      <td>12.00</td>\n",
       "      <td>124.0</td>\n",
       "      <td>0.00498</td>\n",
       "      <td>2.13</td>\n",
       "      <td>79.6</td>\n",
       "      <td>ENSG00000004059</td>\n",
       "      <td>0</td>\n",
       "    </tr>\n",
       "    <tr>\n",
       "      <th>3</th>\n",
       "      <td>ENST00000000233</td>\n",
       "      <td>244</td>\n",
       "      <td>AAGACCA</td>\n",
       "      <td>0.00398</td>\n",
       "      <td>2.06</td>\n",
       "      <td>125.0</td>\n",
       "      <td>0.00830</td>\n",
       "      <td>5.01</td>\n",
       "      <td>130.0</td>\n",
       "      <td>0.00498</td>\n",
       "      <td>3.78</td>\n",
       "      <td>80.4</td>\n",
       "      <td>ENSG00000004059</td>\n",
       "      <td>0</td>\n",
       "    </tr>\n",
       "    <tr>\n",
       "      <th>4</th>\n",
       "      <td>ENST00000000233</td>\n",
       "      <td>244</td>\n",
       "      <td>AAGACCA</td>\n",
       "      <td>0.00664</td>\n",
       "      <td>2.92</td>\n",
       "      <td>120.0</td>\n",
       "      <td>0.00266</td>\n",
       "      <td>3.94</td>\n",
       "      <td>129.0</td>\n",
       "      <td>0.01300</td>\n",
       "      <td>7.15</td>\n",
       "      <td>82.2</td>\n",
       "      <td>ENSG00000004059</td>\n",
       "      <td>0</td>\n",
       "    </tr>\n",
       "    <tr>\n",
       "      <th>...</th>\n",
       "      <td>...</td>\n",
       "      <td>...</td>\n",
       "      <td>...</td>\n",
       "      <td>...</td>\n",
       "      <td>...</td>\n",
       "      <td>...</td>\n",
       "      <td>...</td>\n",
       "      <td>...</td>\n",
       "      <td>...</td>\n",
       "      <td>...</td>\n",
       "      <td>...</td>\n",
       "      <td>...</td>\n",
       "      <td>...</td>\n",
       "      <td>...</td>\n",
       "    </tr>\n",
       "    <tr>\n",
       "      <th>11027101</th>\n",
       "      <td>ENST00000641834</td>\n",
       "      <td>1693</td>\n",
       "      <td>TTGACAT</td>\n",
       "      <td>0.00418</td>\n",
       "      <td>7.49</td>\n",
       "      <td>108.0</td>\n",
       "      <td>0.00564</td>\n",
       "      <td>10.20</td>\n",
       "      <td>116.0</td>\n",
       "      <td>0.01000</td>\n",
       "      <td>2.01</td>\n",
       "      <td>76.4</td>\n",
       "      <td>ENSG00000167747</td>\n",
       "      <td>0</td>\n",
       "    </tr>\n",
       "    <tr>\n",
       "      <th>11027102</th>\n",
       "      <td>ENST00000641834</td>\n",
       "      <td>1693</td>\n",
       "      <td>TTGACAT</td>\n",
       "      <td>0.00664</td>\n",
       "      <td>1.91</td>\n",
       "      <td>109.0</td>\n",
       "      <td>0.00598</td>\n",
       "      <td>12.30</td>\n",
       "      <td>110.0</td>\n",
       "      <td>0.01760</td>\n",
       "      <td>2.61</td>\n",
       "      <td>74.6</td>\n",
       "      <td>ENSG00000167747</td>\n",
       "      <td>0</td>\n",
       "    </tr>\n",
       "    <tr>\n",
       "      <th>11027103</th>\n",
       "      <td>ENST00000641834</td>\n",
       "      <td>1693</td>\n",
       "      <td>TTGACAT</td>\n",
       "      <td>0.00721</td>\n",
       "      <td>4.58</td>\n",
       "      <td>105.0</td>\n",
       "      <td>0.00398</td>\n",
       "      <td>6.58</td>\n",
       "      <td>113.0</td>\n",
       "      <td>0.00316</td>\n",
       "      <td>2.28</td>\n",
       "      <td>85.3</td>\n",
       "      <td>ENSG00000167747</td>\n",
       "      <td>0</td>\n",
       "    </tr>\n",
       "    <tr>\n",
       "      <th>11027104</th>\n",
       "      <td>ENST00000641834</td>\n",
       "      <td>1693</td>\n",
       "      <td>TTGACAT</td>\n",
       "      <td>0.00266</td>\n",
       "      <td>2.33</td>\n",
       "      <td>109.0</td>\n",
       "      <td>0.00913</td>\n",
       "      <td>10.40</td>\n",
       "      <td>108.0</td>\n",
       "      <td>0.00664</td>\n",
       "      <td>4.44</td>\n",
       "      <td>76.8</td>\n",
       "      <td>ENSG00000167747</td>\n",
       "      <td>0</td>\n",
       "    </tr>\n",
       "    <tr>\n",
       "      <th>11027105</th>\n",
       "      <td>ENST00000641834</td>\n",
       "      <td>1693</td>\n",
       "      <td>TTGACAT</td>\n",
       "      <td>0.00564</td>\n",
       "      <td>3.13</td>\n",
       "      <td>110.0</td>\n",
       "      <td>0.00303</td>\n",
       "      <td>9.98</td>\n",
       "      <td>118.0</td>\n",
       "      <td>0.01930</td>\n",
       "      <td>1.79</td>\n",
       "      <td>76.2</td>\n",
       "      <td>ENSG00000167747</td>\n",
       "      <td>0</td>\n",
       "    </tr>\n",
       "  </tbody>\n",
       "</table>\n",
       "<p>11027106 rows × 14 columns</p>\n",
       "</div>"
      ],
      "text/plain": [
       "            transcript_id  transcript_position combined nucleotides  \\\n",
       "0         ENST00000000233                  244              AAGACCA   \n",
       "1         ENST00000000233                  244              AAGACCA   \n",
       "2         ENST00000000233                  244              AAGACCA   \n",
       "3         ENST00000000233                  244              AAGACCA   \n",
       "4         ENST00000000233                  244              AAGACCA   \n",
       "...                   ...                  ...                  ...   \n",
       "11027101  ENST00000641834                 1693              TTGACAT   \n",
       "11027102  ENST00000641834                 1693              TTGACAT   \n",
       "11027103  ENST00000641834                 1693              TTGACAT   \n",
       "11027104  ENST00000641834                 1693              TTGACAT   \n",
       "11027105  ENST00000641834                 1693              TTGACAT   \n",
       "\n",
       "          dwelling_time1   sd1  mean1  dwelling_time2    sd2  mean2  \\\n",
       "0                0.00299  2.06  125.0         0.01770  10.40  122.0   \n",
       "1                0.00631  2.53  125.0         0.00844   4.67  126.0   \n",
       "2                0.00465  3.92  109.0         0.01360  12.00  124.0   \n",
       "3                0.00398  2.06  125.0         0.00830   5.01  130.0   \n",
       "4                0.00664  2.92  120.0         0.00266   3.94  129.0   \n",
       "...                  ...   ...    ...             ...    ...    ...   \n",
       "11027101         0.00418  7.49  108.0         0.00564  10.20  116.0   \n",
       "11027102         0.00664  1.91  109.0         0.00598  12.30  110.0   \n",
       "11027103         0.00721  4.58  105.0         0.00398   6.58  113.0   \n",
       "11027104         0.00266  2.33  109.0         0.00913  10.40  108.0   \n",
       "11027105         0.00564  3.13  110.0         0.00303   9.98  118.0   \n",
       "\n",
       "          dwelling_time3    sd3  mean3          gene_id  label  \n",
       "0                0.00930  10.90   84.1  ENSG00000004059      0  \n",
       "1                0.01030   6.30   80.9  ENSG00000004059      0  \n",
       "2                0.00498   2.13   79.6  ENSG00000004059      0  \n",
       "3                0.00498   3.78   80.4  ENSG00000004059      0  \n",
       "4                0.01300   7.15   82.2  ENSG00000004059      0  \n",
       "...                  ...    ...    ...              ...    ...  \n",
       "11027101         0.01000   2.01   76.4  ENSG00000167747      0  \n",
       "11027102         0.01760   2.61   74.6  ENSG00000167747      0  \n",
       "11027103         0.00316   2.28   85.3  ENSG00000167747      0  \n",
       "11027104         0.00664   4.44   76.8  ENSG00000167747      0  \n",
       "11027105         0.01930   1.79   76.2  ENSG00000167747      0  \n",
       "\n",
       "[11027106 rows x 14 columns]"
      ]
     },
     "execution_count": 3,
     "metadata": {},
     "output_type": "execute_result"
    }
   ],
   "source": [
    "df"
   ]
  },
  {
   "cell_type": "code",
   "execution_count": 4,
   "id": "1c30412d",
   "metadata": {},
   "outputs": [
    {
     "data": {
      "text/plain": [
       "172"
      ]
     },
     "execution_count": 4,
     "metadata": {},
     "output_type": "execute_result"
    }
   ],
   "source": [
    "df.duplicated().sum()"
   ]
  },
  {
   "cell_type": "code",
   "execution_count": 5,
   "id": "2edeb070",
   "metadata": {
    "scrolled": true
   },
   "outputs": [
    {
     "data": {
      "text/html": [
       "<div>\n",
       "<style scoped>\n",
       "    .dataframe tbody tr th:only-of-type {\n",
       "        vertical-align: middle;\n",
       "    }\n",
       "\n",
       "    .dataframe tbody tr th {\n",
       "        vertical-align: top;\n",
       "    }\n",
       "\n",
       "    .dataframe thead th {\n",
       "        text-align: right;\n",
       "    }\n",
       "</style>\n",
       "<table border=\"1\" class=\"dataframe\">\n",
       "  <thead>\n",
       "    <tr style=\"text-align: right;\">\n",
       "      <th></th>\n",
       "      <th>transcript_id</th>\n",
       "      <th>transcript_position</th>\n",
       "      <th>combined nucleotides</th>\n",
       "      <th>dwelling_time1</th>\n",
       "      <th>sd1</th>\n",
       "      <th>mean1</th>\n",
       "      <th>dwelling_time2</th>\n",
       "      <th>sd2</th>\n",
       "      <th>mean2</th>\n",
       "      <th>dwelling_time3</th>\n",
       "      <th>sd3</th>\n",
       "      <th>mean3</th>\n",
       "      <th>gene_id</th>\n",
       "      <th>label</th>\n",
       "    </tr>\n",
       "  </thead>\n",
       "  <tbody>\n",
       "    <tr>\n",
       "      <th>797596</th>\n",
       "      <td>ENST00000233146</td>\n",
       "      <td>1534</td>\n",
       "      <td>GTGACTC</td>\n",
       "      <td>0.00344</td>\n",
       "      <td>2.49</td>\n",
       "      <td>101.0</td>\n",
       "      <td>0.00332</td>\n",
       "      <td>9.27</td>\n",
       "      <td>124.0</td>\n",
       "      <td>0.00495</td>\n",
       "      <td>3.47</td>\n",
       "      <td>87.8</td>\n",
       "      <td>ENSG00000095002</td>\n",
       "      <td>0</td>\n",
       "    </tr>\n",
       "    <tr>\n",
       "      <th>797608</th>\n",
       "      <td>ENST00000233146</td>\n",
       "      <td>1534</td>\n",
       "      <td>GTGACTC</td>\n",
       "      <td>0.00344</td>\n",
       "      <td>2.49</td>\n",
       "      <td>101.0</td>\n",
       "      <td>0.00332</td>\n",
       "      <td>9.27</td>\n",
       "      <td>124.0</td>\n",
       "      <td>0.00495</td>\n",
       "      <td>3.47</td>\n",
       "      <td>87.8</td>\n",
       "      <td>ENSG00000095002</td>\n",
       "      <td>0</td>\n",
       "    </tr>\n",
       "    <tr>\n",
       "      <th>797617</th>\n",
       "      <td>ENST00000233146</td>\n",
       "      <td>1588</td>\n",
       "      <td>GAAACAA</td>\n",
       "      <td>0.00771</td>\n",
       "      <td>3.35</td>\n",
       "      <td>104.0</td>\n",
       "      <td>0.00764</td>\n",
       "      <td>3.35</td>\n",
       "      <td>99.7</td>\n",
       "      <td>0.00538</td>\n",
       "      <td>2.16</td>\n",
       "      <td>87.9</td>\n",
       "      <td>ENSG00000095002</td>\n",
       "      <td>0</td>\n",
       "    </tr>\n",
       "    <tr>\n",
       "      <th>797622</th>\n",
       "      <td>ENST00000233146</td>\n",
       "      <td>1588</td>\n",
       "      <td>GAAACAA</td>\n",
       "      <td>0.00771</td>\n",
       "      <td>3.35</td>\n",
       "      <td>104.0</td>\n",
       "      <td>0.00764</td>\n",
       "      <td>3.35</td>\n",
       "      <td>99.7</td>\n",
       "      <td>0.00538</td>\n",
       "      <td>2.16</td>\n",
       "      <td>87.9</td>\n",
       "      <td>ENSG00000095002</td>\n",
       "      <td>0</td>\n",
       "    </tr>\n",
       "    <tr>\n",
       "      <th>797649</th>\n",
       "      <td>ENST00000233146</td>\n",
       "      <td>1616</td>\n",
       "      <td>AAAACCA</td>\n",
       "      <td>0.00498</td>\n",
       "      <td>3.31</td>\n",
       "      <td>109.0</td>\n",
       "      <td>0.00631</td>\n",
       "      <td>3.56</td>\n",
       "      <td>102.0</td>\n",
       "      <td>0.00365</td>\n",
       "      <td>2.57</td>\n",
       "      <td>85.0</td>\n",
       "      <td>ENSG00000095002</td>\n",
       "      <td>0</td>\n",
       "    </tr>\n",
       "    <tr>\n",
       "      <th>...</th>\n",
       "      <td>...</td>\n",
       "      <td>...</td>\n",
       "      <td>...</td>\n",
       "      <td>...</td>\n",
       "      <td>...</td>\n",
       "      <td>...</td>\n",
       "      <td>...</td>\n",
       "      <td>...</td>\n",
       "      <td>...</td>\n",
       "      <td>...</td>\n",
       "      <td>...</td>\n",
       "      <td>...</td>\n",
       "      <td>...</td>\n",
       "      <td>...</td>\n",
       "    </tr>\n",
       "    <tr>\n",
       "      <th>11010050</th>\n",
       "      <td>ENST00000640069</td>\n",
       "      <td>2375</td>\n",
       "      <td>GTGACTC</td>\n",
       "      <td>0.00564</td>\n",
       "      <td>3.96</td>\n",
       "      <td>103.0</td>\n",
       "      <td>0.00365</td>\n",
       "      <td>6.68</td>\n",
       "      <td>124.0</td>\n",
       "      <td>0.00365</td>\n",
       "      <td>1.32</td>\n",
       "      <td>91.6</td>\n",
       "      <td>ENSG00000029363</td>\n",
       "      <td>0</td>\n",
       "    </tr>\n",
       "    <tr>\n",
       "      <th>11010086</th>\n",
       "      <td>ENST00000640069</td>\n",
       "      <td>2384</td>\n",
       "      <td>CTGACCT</td>\n",
       "      <td>0.00764</td>\n",
       "      <td>9.38</td>\n",
       "      <td>109.0</td>\n",
       "      <td>0.00232</td>\n",
       "      <td>4.61</td>\n",
       "      <td>123.0</td>\n",
       "      <td>0.00797</td>\n",
       "      <td>9.67</td>\n",
       "      <td>84.8</td>\n",
       "      <td>ENSG00000029363</td>\n",
       "      <td>0</td>\n",
       "    </tr>\n",
       "    <tr>\n",
       "      <th>11010089</th>\n",
       "      <td>ENST00000640069</td>\n",
       "      <td>2384</td>\n",
       "      <td>CTGACCT</td>\n",
       "      <td>0.00764</td>\n",
       "      <td>9.38</td>\n",
       "      <td>109.0</td>\n",
       "      <td>0.00232</td>\n",
       "      <td>4.61</td>\n",
       "      <td>123.0</td>\n",
       "      <td>0.00797</td>\n",
       "      <td>9.67</td>\n",
       "      <td>84.8</td>\n",
       "      <td>ENSG00000029363</td>\n",
       "      <td>0</td>\n",
       "    </tr>\n",
       "    <tr>\n",
       "      <th>11010106</th>\n",
       "      <td>ENST00000640069</td>\n",
       "      <td>2396</td>\n",
       "      <td>ATGACAT</td>\n",
       "      <td>0.00395</td>\n",
       "      <td>3.36</td>\n",
       "      <td>102.0</td>\n",
       "      <td>0.00415</td>\n",
       "      <td>6.47</td>\n",
       "      <td>122.0</td>\n",
       "      <td>0.00365</td>\n",
       "      <td>1.31</td>\n",
       "      <td>81.0</td>\n",
       "      <td>ENSG00000029363</td>\n",
       "      <td>0</td>\n",
       "    </tr>\n",
       "    <tr>\n",
       "      <th>11010135</th>\n",
       "      <td>ENST00000640069</td>\n",
       "      <td>2396</td>\n",
       "      <td>ATGACAT</td>\n",
       "      <td>0.00395</td>\n",
       "      <td>3.36</td>\n",
       "      <td>102.0</td>\n",
       "      <td>0.00415</td>\n",
       "      <td>6.47</td>\n",
       "      <td>122.0</td>\n",
       "      <td>0.00365</td>\n",
       "      <td>1.31</td>\n",
       "      <td>81.0</td>\n",
       "      <td>ENSG00000029363</td>\n",
       "      <td>0</td>\n",
       "    </tr>\n",
       "  </tbody>\n",
       "</table>\n",
       "<p>344 rows × 14 columns</p>\n",
       "</div>"
      ],
      "text/plain": [
       "            transcript_id  transcript_position combined nucleotides  \\\n",
       "797596    ENST00000233146                 1534              GTGACTC   \n",
       "797608    ENST00000233146                 1534              GTGACTC   \n",
       "797617    ENST00000233146                 1588              GAAACAA   \n",
       "797622    ENST00000233146                 1588              GAAACAA   \n",
       "797649    ENST00000233146                 1616              AAAACCA   \n",
       "...                   ...                  ...                  ...   \n",
       "11010050  ENST00000640069                 2375              GTGACTC   \n",
       "11010086  ENST00000640069                 2384              CTGACCT   \n",
       "11010089  ENST00000640069                 2384              CTGACCT   \n",
       "11010106  ENST00000640069                 2396              ATGACAT   \n",
       "11010135  ENST00000640069                 2396              ATGACAT   \n",
       "\n",
       "          dwelling_time1   sd1  mean1  dwelling_time2   sd2  mean2  \\\n",
       "797596           0.00344  2.49  101.0         0.00332  9.27  124.0   \n",
       "797608           0.00344  2.49  101.0         0.00332  9.27  124.0   \n",
       "797617           0.00771  3.35  104.0         0.00764  3.35   99.7   \n",
       "797622           0.00771  3.35  104.0         0.00764  3.35   99.7   \n",
       "797649           0.00498  3.31  109.0         0.00631  3.56  102.0   \n",
       "...                  ...   ...    ...             ...   ...    ...   \n",
       "11010050         0.00564  3.96  103.0         0.00365  6.68  124.0   \n",
       "11010086         0.00764  9.38  109.0         0.00232  4.61  123.0   \n",
       "11010089         0.00764  9.38  109.0         0.00232  4.61  123.0   \n",
       "11010106         0.00395  3.36  102.0         0.00415  6.47  122.0   \n",
       "11010135         0.00395  3.36  102.0         0.00415  6.47  122.0   \n",
       "\n",
       "          dwelling_time3   sd3  mean3          gene_id  label  \n",
       "797596           0.00495  3.47   87.8  ENSG00000095002      0  \n",
       "797608           0.00495  3.47   87.8  ENSG00000095002      0  \n",
       "797617           0.00538  2.16   87.9  ENSG00000095002      0  \n",
       "797622           0.00538  2.16   87.9  ENSG00000095002      0  \n",
       "797649           0.00365  2.57   85.0  ENSG00000095002      0  \n",
       "...                  ...   ...    ...              ...    ...  \n",
       "11010050         0.00365  1.32   91.6  ENSG00000029363      0  \n",
       "11010086         0.00797  9.67   84.8  ENSG00000029363      0  \n",
       "11010089         0.00797  9.67   84.8  ENSG00000029363      0  \n",
       "11010106         0.00365  1.31   81.0  ENSG00000029363      0  \n",
       "11010135         0.00365  1.31   81.0  ENSG00000029363      0  \n",
       "\n",
       "[344 rows x 14 columns]"
      ]
     },
     "execution_count": 5,
     "metadata": {},
     "output_type": "execute_result"
    }
   ],
   "source": [
    "df[df.duplicated(keep=False)]"
   ]
  },
  {
   "cell_type": "code",
   "execution_count": 6,
   "id": "24a73476",
   "metadata": {},
   "outputs": [],
   "source": [
    "df = df.drop_duplicates()"
   ]
  },
  {
   "cell_type": "code",
   "execution_count": 7,
   "id": "597c1bef",
   "metadata": {},
   "outputs": [
    {
     "data": {
      "text/plain": [
       "0"
      ]
     },
     "execution_count": 7,
     "metadata": {},
     "output_type": "execute_result"
    }
   ],
   "source": [
    "df.duplicated().sum()"
   ]
  },
  {
   "cell_type": "code",
   "execution_count": 8,
   "id": "e34ee76b",
   "metadata": {},
   "outputs": [
    {
     "name": "stdout",
     "output_type": "stream",
     "text": [
      "<class 'pandas.core.frame.DataFrame'>\n",
      "Int64Index: 11026934 entries, 0 to 11027105\n",
      "Data columns (total 14 columns):\n",
      " #   Column                Dtype  \n",
      "---  ------                -----  \n",
      " 0   transcript_id         object \n",
      " 1   transcript_position   int32  \n",
      " 2   combined nucleotides  object \n",
      " 3   dwelling_time1        float64\n",
      " 4   sd1                   float64\n",
      " 5   mean1                 float64\n",
      " 6   dwelling_time2        float64\n",
      " 7   sd2                   float64\n",
      " 8   mean2                 float64\n",
      " 9   dwelling_time3        float64\n",
      " 10  sd3                   float64\n",
      " 11  mean3                 float64\n",
      " 12  gene_id               object \n",
      " 13  label                 int64  \n",
      "dtypes: float64(9), int32(1), int64(1), object(3)\n",
      "memory usage: 1.2+ GB\n"
     ]
    }
   ],
   "source": [
    "#Basic information\n",
    "\n",
    "df.info()"
   ]
  },
  {
   "cell_type": "code",
   "execution_count": 9,
   "id": "827a11ce",
   "metadata": {},
   "outputs": [
    {
     "data": {
      "text/html": [
       "<div>\n",
       "<style scoped>\n",
       "    .dataframe tbody tr th:only-of-type {\n",
       "        vertical-align: middle;\n",
       "    }\n",
       "\n",
       "    .dataframe tbody tr th {\n",
       "        vertical-align: top;\n",
       "    }\n",
       "\n",
       "    .dataframe thead th {\n",
       "        text-align: right;\n",
       "    }\n",
       "</style>\n",
       "<table border=\"1\" class=\"dataframe\">\n",
       "  <thead>\n",
       "    <tr style=\"text-align: right;\">\n",
       "      <th></th>\n",
       "      <th>transcript_position</th>\n",
       "      <th>dwelling_time1</th>\n",
       "      <th>sd1</th>\n",
       "      <th>mean1</th>\n",
       "      <th>dwelling_time2</th>\n",
       "      <th>sd2</th>\n",
       "      <th>mean2</th>\n",
       "      <th>dwelling_time3</th>\n",
       "      <th>sd3</th>\n",
       "      <th>mean3</th>\n",
       "      <th>label</th>\n",
       "    </tr>\n",
       "  </thead>\n",
       "  <tbody>\n",
       "    <tr>\n",
       "      <th>count</th>\n",
       "      <td>1.102693e+07</td>\n",
       "      <td>1.102693e+07</td>\n",
       "      <td>1.102693e+07</td>\n",
       "      <td>1.102693e+07</td>\n",
       "      <td>1.102693e+07</td>\n",
       "      <td>1.102693e+07</td>\n",
       "      <td>1.102693e+07</td>\n",
       "      <td>1.102693e+07</td>\n",
       "      <td>1.102693e+07</td>\n",
       "      <td>1.102693e+07</td>\n",
       "      <td>1.102693e+07</td>\n",
       "    </tr>\n",
       "    <tr>\n",
       "      <th>mean</th>\n",
       "      <td>1.285915e+03</td>\n",
       "      <td>8.106456e-03</td>\n",
       "      <td>4.347527e+00</td>\n",
       "      <td>1.109025e+02</td>\n",
       "      <td>8.149356e-03</td>\n",
       "      <td>5.182960e+00</td>\n",
       "      <td>1.110816e+02</td>\n",
       "      <td>7.077332e-03</td>\n",
       "      <td>2.981143e+00</td>\n",
       "      <td>8.625381e+01</td>\n",
       "      <td>4.530380e-02</td>\n",
       "    </tr>\n",
       "    <tr>\n",
       "      <th>std</th>\n",
       "      <td>1.152998e+03</td>\n",
       "      <td>5.411976e-03</td>\n",
       "      <td>2.577914e+00</td>\n",
       "      <td>1.192640e+01</td>\n",
       "      <td>5.301417e-03</td>\n",
       "      <td>3.008635e+00</td>\n",
       "      <td>1.302800e+01</td>\n",
       "      <td>4.385749e-03</td>\n",
       "      <td>1.699639e+00</td>\n",
       "      <td>5.556489e+00</td>\n",
       "      <td>2.079696e-01</td>\n",
       "    </tr>\n",
       "    <tr>\n",
       "      <th>min</th>\n",
       "      <td>3.000000e+00</td>\n",
       "      <td>1.660000e-03</td>\n",
       "      <td>9.400000e-02</td>\n",
       "      <td>7.320000e+01</td>\n",
       "      <td>1.660000e-03</td>\n",
       "      <td>4.400000e-02</td>\n",
       "      <td>7.540000e+01</td>\n",
       "      <td>1.660000e-03</td>\n",
       "      <td>1.360000e-01</td>\n",
       "      <td>6.100000e+01</td>\n",
       "      <td>0.000000e+00</td>\n",
       "    </tr>\n",
       "    <tr>\n",
       "      <th>25%</th>\n",
       "      <td>5.270000e+02</td>\n",
       "      <td>4.320000e-03</td>\n",
       "      <td>2.500000e+00</td>\n",
       "      <td>1.040000e+02</td>\n",
       "      <td>4.490000e-03</td>\n",
       "      <td>2.930000e+00</td>\n",
       "      <td>9.870000e+01</td>\n",
       "      <td>4.090000e-03</td>\n",
       "      <td>1.930000e+00</td>\n",
       "      <td>8.200000e+01</td>\n",
       "      <td>0.000000e+00</td>\n",
       "    </tr>\n",
       "    <tr>\n",
       "      <th>50%</th>\n",
       "      <td>9.650000e+02</td>\n",
       "      <td>6.640000e-03</td>\n",
       "      <td>3.550000e+00</td>\n",
       "      <td>1.110000e+02</td>\n",
       "      <td>6.690000e-03</td>\n",
       "      <td>4.230000e+00</td>\n",
       "      <td>1.120000e+02</td>\n",
       "      <td>5.980000e-03</td>\n",
       "      <td>2.510000e+00</td>\n",
       "      <td>8.640000e+01</td>\n",
       "      <td>0.000000e+00</td>\n",
       "    </tr>\n",
       "    <tr>\n",
       "      <th>75%</th>\n",
       "      <td>1.697000e+03</td>\n",
       "      <td>1.020000e-02</td>\n",
       "      <td>5.570000e+00</td>\n",
       "      <td>1.200000e+02</td>\n",
       "      <td>1.030000e-02</td>\n",
       "      <td>6.890000e+00</td>\n",
       "      <td>1.230000e+02</td>\n",
       "      <td>8.630000e-03</td>\n",
       "      <td>3.470000e+00</td>\n",
       "      <td>9.040000e+01</td>\n",
       "      <td>0.000000e+00</td>\n",
       "    </tr>\n",
       "    <tr>\n",
       "      <th>max</th>\n",
       "      <td>1.873000e+04</td>\n",
       "      <td>1.200000e-01</td>\n",
       "      <td>2.060000e+02</td>\n",
       "      <td>1.530000e+02</td>\n",
       "      <td>1.380000e-01</td>\n",
       "      <td>2.060000e+02</td>\n",
       "      <td>1.560000e+02</td>\n",
       "      <td>1.030000e-01</td>\n",
       "      <td>1.840000e+02</td>\n",
       "      <td>1.430000e+02</td>\n",
       "      <td>1.000000e+00</td>\n",
       "    </tr>\n",
       "  </tbody>\n",
       "</table>\n",
       "</div>"
      ],
      "text/plain": [
       "       transcript_position  dwelling_time1           sd1         mean1  \\\n",
       "count         1.102693e+07    1.102693e+07  1.102693e+07  1.102693e+07   \n",
       "mean          1.285915e+03    8.106456e-03  4.347527e+00  1.109025e+02   \n",
       "std           1.152998e+03    5.411976e-03  2.577914e+00  1.192640e+01   \n",
       "min           3.000000e+00    1.660000e-03  9.400000e-02  7.320000e+01   \n",
       "25%           5.270000e+02    4.320000e-03  2.500000e+00  1.040000e+02   \n",
       "50%           9.650000e+02    6.640000e-03  3.550000e+00  1.110000e+02   \n",
       "75%           1.697000e+03    1.020000e-02  5.570000e+00  1.200000e+02   \n",
       "max           1.873000e+04    1.200000e-01  2.060000e+02  1.530000e+02   \n",
       "\n",
       "       dwelling_time2           sd2         mean2  dwelling_time3  \\\n",
       "count    1.102693e+07  1.102693e+07  1.102693e+07    1.102693e+07   \n",
       "mean     8.149356e-03  5.182960e+00  1.110816e+02    7.077332e-03   \n",
       "std      5.301417e-03  3.008635e+00  1.302800e+01    4.385749e-03   \n",
       "min      1.660000e-03  4.400000e-02  7.540000e+01    1.660000e-03   \n",
       "25%      4.490000e-03  2.930000e+00  9.870000e+01    4.090000e-03   \n",
       "50%      6.690000e-03  4.230000e+00  1.120000e+02    5.980000e-03   \n",
       "75%      1.030000e-02  6.890000e+00  1.230000e+02    8.630000e-03   \n",
       "max      1.380000e-01  2.060000e+02  1.560000e+02    1.030000e-01   \n",
       "\n",
       "                sd3         mean3         label  \n",
       "count  1.102693e+07  1.102693e+07  1.102693e+07  \n",
       "mean   2.981143e+00  8.625381e+01  4.530380e-02  \n",
       "std    1.699639e+00  5.556489e+00  2.079696e-01  \n",
       "min    1.360000e-01  6.100000e+01  0.000000e+00  \n",
       "25%    1.930000e+00  8.200000e+01  0.000000e+00  \n",
       "50%    2.510000e+00  8.640000e+01  0.000000e+00  \n",
       "75%    3.470000e+00  9.040000e+01  0.000000e+00  \n",
       "max    1.840000e+02  1.430000e+02  1.000000e+00  "
      ]
     },
     "execution_count": 9,
     "metadata": {},
     "output_type": "execute_result"
    }
   ],
   "source": [
    "#Describe the data\n",
    "\n",
    "df.describe()"
   ]
  },
  {
   "cell_type": "code",
   "execution_count": 10,
   "id": "4d773271",
   "metadata": {},
   "outputs": [
    {
     "data": {
      "text/html": [
       "<div>\n",
       "<style scoped>\n",
       "    .dataframe tbody tr th:only-of-type {\n",
       "        vertical-align: middle;\n",
       "    }\n",
       "\n",
       "    .dataframe tbody tr th {\n",
       "        vertical-align: top;\n",
       "    }\n",
       "\n",
       "    .dataframe thead th {\n",
       "        text-align: right;\n",
       "    }\n",
       "</style>\n",
       "<table border=\"1\" class=\"dataframe\">\n",
       "  <thead>\n",
       "    <tr style=\"text-align: right;\">\n",
       "      <th></th>\n",
       "      <th>transcript_id</th>\n",
       "      <th>combined nucleotides</th>\n",
       "      <th>gene_id</th>\n",
       "    </tr>\n",
       "  </thead>\n",
       "  <tbody>\n",
       "    <tr>\n",
       "      <th>count</th>\n",
       "      <td>11026934</td>\n",
       "      <td>11026934</td>\n",
       "      <td>11026934</td>\n",
       "    </tr>\n",
       "    <tr>\n",
       "      <th>unique</th>\n",
       "      <td>5333</td>\n",
       "      <td>288</td>\n",
       "      <td>3852</td>\n",
       "    </tr>\n",
       "    <tr>\n",
       "      <th>top</th>\n",
       "      <td>ENST00000216281</td>\n",
       "      <td>AAAACAA</td>\n",
       "      <td>ENSG00000096384</td>\n",
       "    </tr>\n",
       "    <tr>\n",
       "      <th>freq</th>\n",
       "      <td>68776</td>\n",
       "      <td>123903</td>\n",
       "      <td>98688</td>\n",
       "    </tr>\n",
       "  </tbody>\n",
       "</table>\n",
       "</div>"
      ],
      "text/plain": [
       "          transcript_id combined nucleotides          gene_id\n",
       "count          11026934             11026934         11026934\n",
       "unique             5333                  288             3852\n",
       "top     ENST00000216281              AAAACAA  ENSG00000096384\n",
       "freq              68776               123903            98688"
      ]
     },
     "execution_count": 10,
     "metadata": {},
     "output_type": "execute_result"
    }
   ],
   "source": [
    "df.describe(include=[\"object\", \"bool\"])"
   ]
  },
  {
   "cell_type": "code",
   "execution_count": 11,
   "id": "50bbbbf9",
   "metadata": {},
   "outputs": [
    {
     "data": {
      "text/plain": [
       "0    10527372\n",
       "1      499562\n",
       "Name: label, dtype: int64"
      ]
     },
     "execution_count": 11,
     "metadata": {},
     "output_type": "execute_result"
    }
   ],
   "source": [
    "df['label'].value_counts()"
   ]
  },
  {
   "cell_type": "code",
   "execution_count": 12,
   "id": "0c587bbb",
   "metadata": {},
   "outputs": [
    {
     "data": {
      "text/plain": [
       "0    0.954696\n",
       "1    0.045304\n",
       "Name: label, dtype: float64"
      ]
     },
     "execution_count": 12,
     "metadata": {},
     "output_type": "execute_result"
    }
   ],
   "source": [
    "df['label'].value_counts(normalize=True)"
   ]
  },
  {
   "cell_type": "code",
   "execution_count": 13,
   "id": "f2da9086",
   "metadata": {},
   "outputs": [
    {
     "data": {
      "text/plain": [
       "array(['ENST00000000233', 'ENST00000000412', 'ENST00000002165', ...,\n",
       "       'ENST00000641708', 'ENST00000641784', 'ENST00000641834'],\n",
       "      dtype=object)"
      ]
     },
     "execution_count": 13,
     "metadata": {},
     "output_type": "execute_result"
    }
   ],
   "source": [
    "df['transcript_id'].unique()"
   ]
  },
  {
   "cell_type": "code",
   "execution_count": 14,
   "id": "299c4164",
   "metadata": {},
   "outputs": [
    {
     "data": {
      "text/plain": [
       "5333"
      ]
     },
     "execution_count": 14,
     "metadata": {},
     "output_type": "execute_result"
    }
   ],
   "source": [
    "df['transcript_id'].nunique()"
   ]
  },
  {
   "cell_type": "code",
   "execution_count": 15,
   "id": "0302edb2",
   "metadata": {},
   "outputs": [
    {
     "data": {
      "text/plain": [
       "array(['ENST00000000233', 'ENST00000000412', 'ENST00000001008', ...,\n",
       "       'ENST00000641708', 'ENST00000641784', 'ENST00000641834'],\n",
       "      dtype=object)"
      ]
     },
     "execution_count": 15,
     "metadata": {},
     "output_type": "execute_result"
    }
   ],
   "source": [
    "transcriptid_keys, transcriptid_counts = np.unique(df['transcript_id'],return_counts= True)\n",
    "transcriptid_keys"
   ]
  },
  {
   "cell_type": "code",
   "execution_count": 16,
   "id": "03c56f73",
   "metadata": {},
   "outputs": [
    {
     "data": {
      "text/plain": [
       "array([3449, 2592, 6884, ...,  170, 1963, 1323], dtype=int64)"
      ]
     },
     "execution_count": 16,
     "metadata": {},
     "output_type": "execute_result"
    }
   ],
   "source": [
    "transcriptid_counts"
   ]
  },
  {
   "cell_type": "code",
   "execution_count": 17,
   "id": "d02b3f11",
   "metadata": {},
   "outputs": [
    {
     "data": {
      "text/plain": [
       "array([ 244,  261,  316, ..., 8332, 8392, 4702])"
      ]
     },
     "execution_count": 17,
     "metadata": {},
     "output_type": "execute_result"
    }
   ],
   "source": [
    "df['transcript_position'].unique()"
   ]
  },
  {
   "cell_type": "code",
   "execution_count": 18,
   "id": "e6a7d189",
   "metadata": {},
   "outputs": [
    {
     "data": {
      "text/plain": [
       "7099"
      ]
     },
     "execution_count": 18,
     "metadata": {},
     "output_type": "execute_result"
    }
   ],
   "source": [
    "df['transcript_position'].nunique()"
   ]
  },
  {
   "cell_type": "code",
   "execution_count": 19,
   "id": "9e5c4b5a",
   "metadata": {},
   "outputs": [
    {
     "data": {
      "text/plain": [
       "array([    3,     4,     5, ..., 18628, 18680, 18730])"
      ]
     },
     "execution_count": 19,
     "metadata": {},
     "output_type": "execute_result"
    }
   ],
   "source": [
    "pos_keys, pos_counts = np.unique(df['transcript_position'],return_counts= True)\n",
    "pos_keys"
   ]
  },
  {
   "cell_type": "code",
   "execution_count": 20,
   "id": "85955cfa",
   "metadata": {},
   "outputs": [
    {
     "data": {
      "text/plain": [
       "array([352,  62, 123, ...,  29,  31,  29], dtype=int64)"
      ]
     },
     "execution_count": 20,
     "metadata": {},
     "output_type": "execute_result"
    }
   ],
   "source": [
    "pos_counts"
   ]
  },
  {
   "cell_type": "code",
   "execution_count": 21,
   "id": "ecb4ab52",
   "metadata": {},
   "outputs": [
    {
     "data": {
      "text/plain": [
       "array(['AAGACCA', 'CAAACTG', 'GAAACAG', 'AGAACAT', 'AGGACAA', 'AGAACAC',\n",
       "       'TGGACAG', 'ATGACCG', 'TGAACTC', 'AGGACAT', 'CTGACTG', 'CTGACAA',\n",
       "       'TGGACTG', 'CTAACCA', 'ATGACCA', 'CAGACTC', 'CGGACTC', 'GGGACCT',\n",
       "       'GAAACTA', 'GGGACCG', 'AGGACTG', 'CAGACAG', 'AAAACTT', 'GAAACCA',\n",
       "       'CAGACAC', 'GAGACAG', 'GAGACTC', 'ATGACAA', 'CGGACAA', 'TTAACCC',\n",
       "       'GTGACTT', 'TAAACCT', 'CAAACCA', 'AAAACTG', 'AAAACAG', 'TTGACAT',\n",
       "       'TAAACAC', 'GAGACAC', 'GAAACAT', 'GGAACTA', 'TAGACTT', 'AGGACAG',\n",
       "       'GTGACTG', 'TAAACAT', 'TTGACCT', 'GGGACAT', 'GAAACCT', 'TGAACCC',\n",
       "       'GTAACAT', 'TGGACAC', 'TGGACTT', 'TAAACAG', 'AAAACCA', 'AAAACTC',\n",
       "       'TTGACCA', 'TGGACCA', 'TTAACTT', 'CAAACAT', 'GGAACTG', 'GGAACTT',\n",
       "       'GGAACAG', 'AGAACTG', 'CTGACCT', 'AAGACAT', 'TGAACAA', 'ATAACCC',\n",
       "       'TAGACAA', 'CTGACTA', 'GAAACCC', 'ATGACAC', 'TTAACTG', 'GTAACCA',\n",
       "       'TTAACTC', 'ATGACAT', 'TTGACTG', 'GAGACAA', 'AAAACAC', 'AAGACTT',\n",
       "       'TAGACCT', 'AGAACTC', 'CAGACTG', 'AAGACTC', 'AAGACAA', 'AAAACCC',\n",
       "       'AAAACAA', 'GAAACAA', 'TGGACTA', 'CGAACAT', 'TTAACTA', 'AGGACCA',\n",
       "       'AAGACTG', 'TTAACAA', 'CAAACTT', 'GTAACTC', 'CTAACTA', 'TAAACTC',\n",
       "       'GGGACCC', 'GGGACTT', 'AGGACCG', 'GAAACTC', 'TTGACCC', 'AAGACCT',\n",
       "       'TAGACAG', 'CAGACCC', 'AGGACTC', 'AGGACAC', 'CTGACTC', 'CTGACAG',\n",
       "       'AGGACTA', 'CTGACTT', 'GTAACAA', 'AAGACAG', 'TTGACAA', 'CTGACCA',\n",
       "       'TGAACAG', 'GTAACAG', 'GGAACTC', 'GTAACAC', 'TTAACCA', 'CTAACAT',\n",
       "       'GAGACCT', 'ATGACAG', 'TGGACAT', 'CAAACAG', 'TTGACTC', 'AGAACCT',\n",
       "       'ATGACTT', 'TGAACTG', 'AAGACCC', 'AGAACAA', 'GAGACCA', 'CTGACAC',\n",
       "       'TGAACAT', 'AGAACCC', 'GTGACCA', 'TGAACTA', 'CAGACTT', 'CAGACCT',\n",
       "       'TGGACCT', 'TGAACCG', 'TGGACAA', 'CGGACAC', 'AGGACCC', 'GAGACTG',\n",
       "       'GAGACAT', 'TTGACAG', 'CTGACCC', 'TAAACAA', 'GGAACAC', 'GGAACCG',\n",
       "       'CGGACAG', 'GGGACTC', 'GGGACTG', 'GAAACCG', 'GAGACCC', 'GGAACAA',\n",
       "       'CTAACAA', 'TTGACTT', 'GGAACCA', 'GTAACCC', 'TGAACCA', 'AGGACTT',\n",
       "       'ATGACTA', 'AGAACTA', 'TTAACAC', 'GTGACTC', 'CTAACCC', 'GTGACCT',\n",
       "       'GTAACTA', 'ATAACTC', 'AGGACCT', 'AGAACTT', 'ATGACCT', 'TTAACAT',\n",
       "       'GTGACAG', 'GTGACAA', 'CAGACTA', 'ATGACCC', 'GTGACCC', 'GGGACAG',\n",
       "       'TAGACCA', 'GAAACTT', 'CAGACCA', 'CGAACTT', 'CAAACTA', 'TAAACTG',\n",
       "       'TAAACTA', 'TAAACTT', 'TGAACAC', 'GAGACCG', 'GTGACCG', 'TGAACTT',\n",
       "       'CTAACTC', 'CAGACAA', 'GAAACTG', 'CGAACAC', 'TTGACAC', 'CGGACTT',\n",
       "       'TAAACCC', 'CAAACAC', 'AGAACCA', 'ATAACTT', 'TAGACAT', 'GTGACAC',\n",
       "       'CAAACAA', 'TTAACAG', 'AAGACTA', 'CTAACTT', 'TTAACCT', 'GTAACTT',\n",
       "       'TAGACTC', 'ATAACAG', 'AAAACCT', 'CAAACTC', 'TGGACCG', 'GTGACAT',\n",
       "       'CTAACAG', 'TAAACCG', 'GTAACTG', 'TAGACTA', 'ATAACAA', 'GAAACAC',\n",
       "       'CGAACCC', 'GAGACTA', 'TGGACTC', 'CGGACCC', 'GGGACAC', 'TGGACCC',\n",
       "       'CGGACCT', 'CAAACCC', 'AGAACAG', 'GGGACAA', 'AAGACAC', 'TAGACCC',\n",
       "       'AAAACAT', 'ATGACTC', 'CGGACCA', 'ATAACCA', 'CAAACCT', 'CAGACAT',\n",
       "       'TGAACCT', 'CTAACTG', 'CTAACAC', 'CTGACAT', 'ATAACCT', 'CTGACCG',\n",
       "       'GGAACCC', 'CGAACTG', 'GAGACTT', 'ATGACTG', 'GGAACAT', 'TAGACAC',\n",
       "       'CTAACCT', 'GGGACCA', 'ATAACTG', 'AAAACTA', 'TAGACCG', 'CGGACTG',\n",
       "       'CAGACCG', 'CGGACAT', 'AAAACCG', 'TAGACTG', 'ATAACCG', 'AGAACCG',\n",
       "       'GTAACCT', 'CGAACCG', 'TTGACTA', 'CGAACTA', 'ATAACAT', 'CGAACAG',\n",
       "       'TAAACCA', 'TTAACCG', 'CTAACCG', 'GGGACTA', 'CGGACCG', 'TTGACCG',\n",
       "       'GTGACTA', 'GTAACCG', 'CAAACCG', 'GGAACCT', 'ATAACTA', 'CGAACTC',\n",
       "       'AAGACCG', 'CGAACCA', 'CGGACTA', 'CGAACCT', 'CGAACAA', 'ATAACAC'],\n",
       "      dtype=object)"
      ]
     },
     "execution_count": 21,
     "metadata": {},
     "output_type": "execute_result"
    }
   ],
   "source": [
    "df['combined nucleotides'].unique()"
   ]
  },
  {
   "cell_type": "code",
   "execution_count": 22,
   "id": "33d8025e",
   "metadata": {},
   "outputs": [
    {
     "data": {
      "text/plain": [
       "288"
      ]
     },
     "execution_count": 22,
     "metadata": {},
     "output_type": "execute_result"
    }
   ],
   "source": [
    "df['combined nucleotides'].nunique()"
   ]
  },
  {
   "cell_type": "code",
   "execution_count": 23,
   "id": "7ad0a8e4",
   "metadata": {},
   "outputs": [
    {
     "data": {
      "text/plain": [
       "array(['AAAACAA', 'AAAACAC', 'AAAACAG', 'AAAACAT', 'AAAACCA', 'AAAACCC',\n",
       "       'AAAACCG', 'AAAACCT', 'AAAACTA', 'AAAACTC', 'AAAACTG', 'AAAACTT',\n",
       "       'AAGACAA', 'AAGACAC', 'AAGACAG', 'AAGACAT', 'AAGACCA', 'AAGACCC',\n",
       "       'AAGACCG', 'AAGACCT', 'AAGACTA', 'AAGACTC', 'AAGACTG', 'AAGACTT',\n",
       "       'AGAACAA', 'AGAACAC', 'AGAACAG', 'AGAACAT', 'AGAACCA', 'AGAACCC',\n",
       "       'AGAACCG', 'AGAACCT', 'AGAACTA', 'AGAACTC', 'AGAACTG', 'AGAACTT',\n",
       "       'AGGACAA', 'AGGACAC', 'AGGACAG', 'AGGACAT', 'AGGACCA', 'AGGACCC',\n",
       "       'AGGACCG', 'AGGACCT', 'AGGACTA', 'AGGACTC', 'AGGACTG', 'AGGACTT',\n",
       "       'ATAACAA', 'ATAACAC', 'ATAACAG', 'ATAACAT', 'ATAACCA', 'ATAACCC',\n",
       "       'ATAACCG', 'ATAACCT', 'ATAACTA', 'ATAACTC', 'ATAACTG', 'ATAACTT',\n",
       "       'ATGACAA', 'ATGACAC', 'ATGACAG', 'ATGACAT', 'ATGACCA', 'ATGACCC',\n",
       "       'ATGACCG', 'ATGACCT', 'ATGACTA', 'ATGACTC', 'ATGACTG', 'ATGACTT',\n",
       "       'CAAACAA', 'CAAACAC', 'CAAACAG', 'CAAACAT', 'CAAACCA', 'CAAACCC',\n",
       "       'CAAACCG', 'CAAACCT', 'CAAACTA', 'CAAACTC', 'CAAACTG', 'CAAACTT',\n",
       "       'CAGACAA', 'CAGACAC', 'CAGACAG', 'CAGACAT', 'CAGACCA', 'CAGACCC',\n",
       "       'CAGACCG', 'CAGACCT', 'CAGACTA', 'CAGACTC', 'CAGACTG', 'CAGACTT',\n",
       "       'CGAACAA', 'CGAACAC', 'CGAACAG', 'CGAACAT', 'CGAACCA', 'CGAACCC',\n",
       "       'CGAACCG', 'CGAACCT', 'CGAACTA', 'CGAACTC', 'CGAACTG', 'CGAACTT',\n",
       "       'CGGACAA', 'CGGACAC', 'CGGACAG', 'CGGACAT', 'CGGACCA', 'CGGACCC',\n",
       "       'CGGACCG', 'CGGACCT', 'CGGACTA', 'CGGACTC', 'CGGACTG', 'CGGACTT',\n",
       "       'CTAACAA', 'CTAACAC', 'CTAACAG', 'CTAACAT', 'CTAACCA', 'CTAACCC',\n",
       "       'CTAACCG', 'CTAACCT', 'CTAACTA', 'CTAACTC', 'CTAACTG', 'CTAACTT',\n",
       "       'CTGACAA', 'CTGACAC', 'CTGACAG', 'CTGACAT', 'CTGACCA', 'CTGACCC',\n",
       "       'CTGACCG', 'CTGACCT', 'CTGACTA', 'CTGACTC', 'CTGACTG', 'CTGACTT',\n",
       "       'GAAACAA', 'GAAACAC', 'GAAACAG', 'GAAACAT', 'GAAACCA', 'GAAACCC',\n",
       "       'GAAACCG', 'GAAACCT', 'GAAACTA', 'GAAACTC', 'GAAACTG', 'GAAACTT',\n",
       "       'GAGACAA', 'GAGACAC', 'GAGACAG', 'GAGACAT', 'GAGACCA', 'GAGACCC',\n",
       "       'GAGACCG', 'GAGACCT', 'GAGACTA', 'GAGACTC', 'GAGACTG', 'GAGACTT',\n",
       "       'GGAACAA', 'GGAACAC', 'GGAACAG', 'GGAACAT', 'GGAACCA', 'GGAACCC',\n",
       "       'GGAACCG', 'GGAACCT', 'GGAACTA', 'GGAACTC', 'GGAACTG', 'GGAACTT',\n",
       "       'GGGACAA', 'GGGACAC', 'GGGACAG', 'GGGACAT', 'GGGACCA', 'GGGACCC',\n",
       "       'GGGACCG', 'GGGACCT', 'GGGACTA', 'GGGACTC', 'GGGACTG', 'GGGACTT',\n",
       "       'GTAACAA', 'GTAACAC', 'GTAACAG', 'GTAACAT', 'GTAACCA', 'GTAACCC',\n",
       "       'GTAACCG', 'GTAACCT', 'GTAACTA', 'GTAACTC', 'GTAACTG', 'GTAACTT',\n",
       "       'GTGACAA', 'GTGACAC', 'GTGACAG', 'GTGACAT', 'GTGACCA', 'GTGACCC',\n",
       "       'GTGACCG', 'GTGACCT', 'GTGACTA', 'GTGACTC', 'GTGACTG', 'GTGACTT',\n",
       "       'TAAACAA', 'TAAACAC', 'TAAACAG', 'TAAACAT', 'TAAACCA', 'TAAACCC',\n",
       "       'TAAACCG', 'TAAACCT', 'TAAACTA', 'TAAACTC', 'TAAACTG', 'TAAACTT',\n",
       "       'TAGACAA', 'TAGACAC', 'TAGACAG', 'TAGACAT', 'TAGACCA', 'TAGACCC',\n",
       "       'TAGACCG', 'TAGACCT', 'TAGACTA', 'TAGACTC', 'TAGACTG', 'TAGACTT',\n",
       "       'TGAACAA', 'TGAACAC', 'TGAACAG', 'TGAACAT', 'TGAACCA', 'TGAACCC',\n",
       "       'TGAACCG', 'TGAACCT', 'TGAACTA', 'TGAACTC', 'TGAACTG', 'TGAACTT',\n",
       "       'TGGACAA', 'TGGACAC', 'TGGACAG', 'TGGACAT', 'TGGACCA', 'TGGACCC',\n",
       "       'TGGACCG', 'TGGACCT', 'TGGACTA', 'TGGACTC', 'TGGACTG', 'TGGACTT',\n",
       "       'TTAACAA', 'TTAACAC', 'TTAACAG', 'TTAACAT', 'TTAACCA', 'TTAACCC',\n",
       "       'TTAACCG', 'TTAACCT', 'TTAACTA', 'TTAACTC', 'TTAACTG', 'TTAACTT',\n",
       "       'TTGACAA', 'TTGACAC', 'TTGACAG', 'TTGACAT', 'TTGACCA', 'TTGACCC',\n",
       "       'TTGACCG', 'TTGACCT', 'TTGACTA', 'TTGACTC', 'TTGACTG', 'TTGACTT'],\n",
       "      dtype=object)"
      ]
     },
     "execution_count": 23,
     "metadata": {},
     "output_type": "execute_result"
    }
   ],
   "source": [
    "nucleotides_keys, nucleotides_counts = np.unique(df['combined nucleotides'],return_counts= True)\n",
    "nucleotides_keys"
   ]
  },
  {
   "cell_type": "code",
   "execution_count": 24,
   "id": "ac556d64",
   "metadata": {},
   "outputs": [
    {
     "data": {
      "text/plain": [
       "array([123903,  49621,  62019,  83295,  73231,  45214,  18219,  63614,\n",
       "        72553,  48568,  82116,  75562,  70133,  39531,  63949,  51073,\n",
       "        94560,  61332,  17648,  70332,  30063,  33321,  88882,  58533,\n",
       "        99761,  52640,  69092,  74705,  67027,  46717,  26919,  50917,\n",
       "        44162,  44151,  66897,  65615,  57338,  31211,  51522,  62239,\n",
       "        68851,  44876,  26059,  68065,  31631,  46375,  48056,  60379,\n",
       "        35519,  13132,  20404,  33258,  22690,  20513,   3275,  17266,\n",
       "        18834,  11712,  30428,  38959,  56127,  27667,  51177,  64452,\n",
       "        52343,  43580,  22507,  41697,  27310,  28590,  51774,  57521,\n",
       "        55106,  31419,  53706,  40342,  51870,  36043,   7809,  38441,\n",
       "        26093,  37836,  55841,  34732,  48471,  44286,  55446,  47332,\n",
       "        46852,  56894,  17172,  40216,  19443,  32746,  53748,  37839,\n",
       "         8460,  10637,  11147,   4620,   8648,  13831,   2420,   7304,\n",
       "         3956,   8628,  13048,   6865,  14592,  15153,  13630,  10376,\n",
       "        14678,  22318,  13573,  17444,   7932,  19766,  16716,   7390,\n",
       "        27659,  13946,  24816,  23276,  24419,  18910,  10210,  23375,\n",
       "        13272,  14307,  22111,  25811,  56872,  31766,  49643,  40937,\n",
       "        76999,  54272,  33866,  53233,  42108,  29937,  56862,  52034,\n",
       "        71508,  33228,  83102,  58272,  53896,  38699,  18182,  47564,\n",
       "        28874,  34596,  83289,  57002,  41426,  31840,  63034,  25567,\n",
       "        74398,  55083,  17526,  49904,  24965,  29005,  52320,  40591,\n",
       "        55540,  33356,  66162,  43711,  55085,  43735,  21635,  37940,\n",
       "        25279,  30190,  71196,  37215,  42059,  25593,  48753,  39245,\n",
       "        45065,  55491,  19349,  51373,  23933,  29142,  50233,  36040,\n",
       "        29861,  15583,  26312,  27324,  22724,  13548,   4351,  17807,\n",
       "        17802,  13044,  33091,  26233,  44005,  31456,  55157,  43349,\n",
       "        62605,  42950,  25478,  37581,  20459,  26920,  53887,  42889,\n",
       "        47081,  27257,  42791,  44931,  28596,  26588,   6427,  41580,\n",
       "        32800,  23835,  44709,  52337,  26928,  11849,  13579,  20540,\n",
       "        19015,  11250,   2804,  15787,  12247,  12579,  13251,  24542,\n",
       "        56178,  35764,  56398,  61893,  52310,  33628,  15498,  45780,\n",
       "        28653,  41693,  55146,  63215,  76235,  45197,  64282,  66981,\n",
       "        60001,  46931,  24249,  61780,  25633,  40716,  61036,  52012,\n",
       "        41938,  20162,  28719,  35553,  35668,  17135,   7148,  25685,\n",
       "        25960,  18603,  37488,  35822,  70028,  27160,  37291,  41697,\n",
       "        36539,  28136,  14648,  54881,  22573,  27056,  36949,  53308],\n",
       "      dtype=int64)"
      ]
     },
     "execution_count": 24,
     "metadata": {},
     "output_type": "execute_result"
    }
   ],
   "source": [
    "nucleotides_counts"
   ]
  },
  {
   "cell_type": "code",
   "execution_count": 25,
   "id": "41862ba8",
   "metadata": {},
   "outputs": [
    {
     "data": {
      "text/plain": [
       "array(['AAAACAA', 'AAAACAC', 'AAAACAG', 'AAAACAT', 'AAAACCA', 'AAAACCC',\n",
       "       'AAAACCG', 'AAAACCT', 'AAAACTA', 'AAAACTC', 'AAAACTG', 'AAAACTT',\n",
       "       'AAGACAA', 'AAGACAC', 'AAGACAG', 'AAGACAT', 'AAGACCA', 'AAGACCC',\n",
       "       'AAGACCG', 'AAGACCT', 'AAGACTA', 'AAGACTC', 'AAGACTG', 'AAGACTT',\n",
       "       'AGAACAA', 'AGAACAC', 'AGAACAG', 'AGAACAT', 'AGAACCA', 'AGAACCC',\n",
       "       'AGAACCG', 'AGAACCT', 'AGAACTA', 'AGAACTC', 'AGAACTG', 'AGAACTT',\n",
       "       'AGGACAA', 'AGGACAC', 'AGGACAG', 'AGGACAT', 'AGGACCA', 'AGGACCC',\n",
       "       'AGGACCG', 'AGGACCT', 'AGGACTA', 'AGGACTC', 'AGGACTG', 'AGGACTT',\n",
       "       'ATAACAA', 'ATAACAC', 'ATAACAG', 'ATAACAT', 'ATAACCA', 'ATAACCC',\n",
       "       'ATAACCG', 'ATAACCT', 'ATAACTA', 'ATAACTC', 'ATAACTG', 'ATAACTT',\n",
       "       'ATGACAA', 'ATGACAC', 'ATGACAG', 'ATGACAT', 'ATGACCA', 'ATGACCC',\n",
       "       'ATGACCG', 'ATGACCT', 'ATGACTA', 'ATGACTC', 'ATGACTG', 'ATGACTT',\n",
       "       'CAAACAA', 'CAAACAC', 'CAAACAG', 'CAAACAT', 'CAAACCA', 'CAAACCC',\n",
       "       'CAAACCG', 'CAAACCT', 'CAAACTA', 'CAAACTC', 'CAAACTG', 'CAAACTT',\n",
       "       'CAGACAA', 'CAGACAC', 'CAGACAG', 'CAGACAT', 'CAGACCA', 'CAGACCC',\n",
       "       'CAGACCG', 'CAGACCT', 'CAGACTA', 'CAGACTC', 'CAGACTG', 'CAGACTT',\n",
       "       'CGAACAA', 'CGAACAC', 'CGAACAG', 'CGAACAT', 'CGAACCA', 'CGAACCC',\n",
       "       'CGAACCG', 'CGAACCT', 'CGAACTA', 'CGAACTC', 'CGAACTG', 'CGAACTT',\n",
       "       'CGGACAA', 'CGGACAC', 'CGGACAG', 'CGGACAT', 'CGGACCA', 'CGGACCC',\n",
       "       'CGGACCG', 'CGGACCT', 'CGGACTA', 'CGGACTC', 'CGGACTG', 'CGGACTT',\n",
       "       'CTAACAA', 'CTAACAC', 'CTAACAG', 'CTAACAT', 'CTAACCA', 'CTAACCC',\n",
       "       'CTAACCG', 'CTAACCT', 'CTAACTA', 'CTAACTC', 'CTAACTG', 'CTAACTT',\n",
       "       'CTGACAA', 'CTGACAC', 'CTGACAG', 'CTGACAT', 'CTGACCA', 'CTGACCC',\n",
       "       'CTGACCG', 'CTGACCT', 'CTGACTA', 'CTGACTC', 'CTGACTG', 'CTGACTT',\n",
       "       'GAAACAA', 'GAAACAC', 'GAAACAG', 'GAAACAT', 'GAAACCA', 'GAAACCC',\n",
       "       'GAAACCG', 'GAAACCT', 'GAAACTA', 'GAAACTC', 'GAAACTG', 'GAAACTT',\n",
       "       'GAGACAA', 'GAGACAC', 'GAGACAG', 'GAGACAT', 'GAGACCA', 'GAGACCC',\n",
       "       'GAGACCG', 'GAGACCT', 'GAGACTA', 'GAGACTC', 'GAGACTG', 'GAGACTT',\n",
       "       'GGAACAA', 'GGAACAC', 'GGAACAG', 'GGAACAT', 'GGAACCA', 'GGAACCC',\n",
       "       'GGAACCG', 'GGAACCT', 'GGAACTA', 'GGAACTC', 'GGAACTG', 'GGAACTT',\n",
       "       'GGGACAA', 'GGGACAC', 'GGGACAG', 'GGGACAT', 'GGGACCA', 'GGGACCC',\n",
       "       'GGGACCG', 'GGGACCT', 'GGGACTA', 'GGGACTC', 'GGGACTG', 'GGGACTT',\n",
       "       'GTAACAA', 'GTAACAC', 'GTAACAG', 'GTAACAT', 'GTAACCA', 'GTAACCC',\n",
       "       'GTAACCG', 'GTAACCT', 'GTAACTA', 'GTAACTC', 'GTAACTG', 'GTAACTT',\n",
       "       'GTGACAA', 'GTGACAC', 'GTGACAG', 'GTGACAT', 'GTGACCA', 'GTGACCC',\n",
       "       'GTGACCG', 'GTGACCT', 'GTGACTA', 'GTGACTC', 'GTGACTG', 'GTGACTT',\n",
       "       'TAAACAA', 'TAAACAC', 'TAAACAG', 'TAAACAT', 'TAAACCA', 'TAAACCC',\n",
       "       'TAAACCG', 'TAAACCT', 'TAAACTA', 'TAAACTC', 'TAAACTG', 'TAAACTT',\n",
       "       'TAGACAA', 'TAGACAC', 'TAGACAG', 'TAGACAT', 'TAGACCA', 'TAGACCC',\n",
       "       'TAGACCG', 'TAGACCT', 'TAGACTA', 'TAGACTC', 'TAGACTG', 'TAGACTT',\n",
       "       'TGAACAA', 'TGAACAC', 'TGAACAG', 'TGAACAT', 'TGAACCA', 'TGAACCC',\n",
       "       'TGAACCG', 'TGAACCT', 'TGAACTA', 'TGAACTC', 'TGAACTG', 'TGAACTT',\n",
       "       'TGGACAA', 'TGGACAC', 'TGGACAG', 'TGGACAT', 'TGGACCA', 'TGGACCC',\n",
       "       'TGGACCG', 'TGGACCT', 'TGGACTA', 'TGGACTC', 'TGGACTG', 'TGGACTT',\n",
       "       'TTAACAA', 'TTAACAC', 'TTAACAG', 'TTAACAT', 'TTAACCA', 'TTAACCC',\n",
       "       'TTAACCG', 'TTAACCT', 'TTAACTA', 'TTAACTC', 'TTAACTG', 'TTAACTT',\n",
       "       'TTGACAA', 'TTGACAC', 'TTGACAG', 'TTGACAT', 'TTGACCA', 'TTGACCC',\n",
       "       'TTGACCG', 'TTGACCT', 'TTGACTA', 'TTGACTC', 'TTGACTG', 'TTGACTT'],\n",
       "      dtype=object)"
      ]
     },
     "execution_count": 25,
     "metadata": {},
     "output_type": "execute_result"
    }
   ],
   "source": [
    "geneid_keys, geneid_counts = np.unique(df['combined nucleotides'],return_counts= True)\n",
    "geneid_keys"
   ]
  },
  {
   "cell_type": "code",
   "execution_count": 26,
   "id": "3c2404d3",
   "metadata": {},
   "outputs": [
    {
     "data": {
      "text/plain": [
       "array([123903,  49621,  62019,  83295,  73231,  45214,  18219,  63614,\n",
       "        72553,  48568,  82116,  75562,  70133,  39531,  63949,  51073,\n",
       "        94560,  61332,  17648,  70332,  30063,  33321,  88882,  58533,\n",
       "        99761,  52640,  69092,  74705,  67027,  46717,  26919,  50917,\n",
       "        44162,  44151,  66897,  65615,  57338,  31211,  51522,  62239,\n",
       "        68851,  44876,  26059,  68065,  31631,  46375,  48056,  60379,\n",
       "        35519,  13132,  20404,  33258,  22690,  20513,   3275,  17266,\n",
       "        18834,  11712,  30428,  38959,  56127,  27667,  51177,  64452,\n",
       "        52343,  43580,  22507,  41697,  27310,  28590,  51774,  57521,\n",
       "        55106,  31419,  53706,  40342,  51870,  36043,   7809,  38441,\n",
       "        26093,  37836,  55841,  34732,  48471,  44286,  55446,  47332,\n",
       "        46852,  56894,  17172,  40216,  19443,  32746,  53748,  37839,\n",
       "         8460,  10637,  11147,   4620,   8648,  13831,   2420,   7304,\n",
       "         3956,   8628,  13048,   6865,  14592,  15153,  13630,  10376,\n",
       "        14678,  22318,  13573,  17444,   7932,  19766,  16716,   7390,\n",
       "        27659,  13946,  24816,  23276,  24419,  18910,  10210,  23375,\n",
       "        13272,  14307,  22111,  25811,  56872,  31766,  49643,  40937,\n",
       "        76999,  54272,  33866,  53233,  42108,  29937,  56862,  52034,\n",
       "        71508,  33228,  83102,  58272,  53896,  38699,  18182,  47564,\n",
       "        28874,  34596,  83289,  57002,  41426,  31840,  63034,  25567,\n",
       "        74398,  55083,  17526,  49904,  24965,  29005,  52320,  40591,\n",
       "        55540,  33356,  66162,  43711,  55085,  43735,  21635,  37940,\n",
       "        25279,  30190,  71196,  37215,  42059,  25593,  48753,  39245,\n",
       "        45065,  55491,  19349,  51373,  23933,  29142,  50233,  36040,\n",
       "        29861,  15583,  26312,  27324,  22724,  13548,   4351,  17807,\n",
       "        17802,  13044,  33091,  26233,  44005,  31456,  55157,  43349,\n",
       "        62605,  42950,  25478,  37581,  20459,  26920,  53887,  42889,\n",
       "        47081,  27257,  42791,  44931,  28596,  26588,   6427,  41580,\n",
       "        32800,  23835,  44709,  52337,  26928,  11849,  13579,  20540,\n",
       "        19015,  11250,   2804,  15787,  12247,  12579,  13251,  24542,\n",
       "        56178,  35764,  56398,  61893,  52310,  33628,  15498,  45780,\n",
       "        28653,  41693,  55146,  63215,  76235,  45197,  64282,  66981,\n",
       "        60001,  46931,  24249,  61780,  25633,  40716,  61036,  52012,\n",
       "        41938,  20162,  28719,  35553,  35668,  17135,   7148,  25685,\n",
       "        25960,  18603,  37488,  35822,  70028,  27160,  37291,  41697,\n",
       "        36539,  28136,  14648,  54881,  22573,  27056,  36949,  53308],\n",
       "      dtype=int64)"
      ]
     },
     "execution_count": 26,
     "metadata": {},
     "output_type": "execute_result"
    }
   ],
   "source": [
    "geneid_counts"
   ]
  },
  {
   "cell_type": "code",
   "execution_count": 27,
   "id": "7dad0729",
   "metadata": {},
   "outputs": [
    {
     "data": {
      "text/plain": [
       "transcript_id           0\n",
       "transcript_position     0\n",
       "combined nucleotides    0\n",
       "dwelling_time1          0\n",
       "sd1                     0\n",
       "mean1                   0\n",
       "dwelling_time2          0\n",
       "sd2                     0\n",
       "mean2                   0\n",
       "dwelling_time3          0\n",
       "sd3                     0\n",
       "mean3                   0\n",
       "gene_id                 0\n",
       "label                   0\n",
       "dtype: int64"
      ]
     },
     "execution_count": 27,
     "metadata": {},
     "output_type": "execute_result"
    }
   ],
   "source": [
    "#Find null values\n",
    "\n",
    "df.isnull().sum()"
   ]
  },
  {
   "cell_type": "code",
   "execution_count": 28,
   "id": "2c214aae",
   "metadata": {},
   "outputs": [
    {
     "data": {
      "text/plain": [
       "transcript_id            object\n",
       "transcript_position       int32\n",
       "combined nucleotides     object\n",
       "dwelling_time1          float64\n",
       "sd1                     float64\n",
       "mean1                   float64\n",
       "dwelling_time2          float64\n",
       "sd2                     float64\n",
       "mean2                   float64\n",
       "dwelling_time3          float64\n",
       "sd3                     float64\n",
       "mean3                   float64\n",
       "gene_id                  object\n",
       "label                     int64\n",
       "dtype: object"
      ]
     },
     "execution_count": 28,
     "metadata": {},
     "output_type": "execute_result"
    }
   ],
   "source": [
    "#Datatypes\n",
    "\n",
    "df.dtypes"
   ]
  },
  {
   "cell_type": "code",
   "execution_count": 29,
   "id": "beaa0088",
   "metadata": {},
   "outputs": [
    {
     "data": {
      "text/html": [
       "<div>\n",
       "<style scoped>\n",
       "    .dataframe tbody tr th:only-of-type {\n",
       "        vertical-align: middle;\n",
       "    }\n",
       "\n",
       "    .dataframe tbody tr th {\n",
       "        vertical-align: top;\n",
       "    }\n",
       "\n",
       "    .dataframe thead th {\n",
       "        text-align: right;\n",
       "    }\n",
       "</style>\n",
       "<table border=\"1\" class=\"dataframe\">\n",
       "  <thead>\n",
       "    <tr style=\"text-align: right;\">\n",
       "      <th></th>\n",
       "      <th>transcript_position</th>\n",
       "      <th>dwelling_time1</th>\n",
       "      <th>sd1</th>\n",
       "      <th>mean1</th>\n",
       "      <th>dwelling_time2</th>\n",
       "      <th>sd2</th>\n",
       "      <th>mean2</th>\n",
       "      <th>dwelling_time3</th>\n",
       "      <th>sd3</th>\n",
       "      <th>mean3</th>\n",
       "      <th>label</th>\n",
       "    </tr>\n",
       "  </thead>\n",
       "  <tbody>\n",
       "    <tr>\n",
       "      <th>transcript_position</th>\n",
       "      <td>1.000000</td>\n",
       "      <td>-0.010328</td>\n",
       "      <td>-0.047638</td>\n",
       "      <td>-0.079866</td>\n",
       "      <td>-0.020505</td>\n",
       "      <td>-0.045755</td>\n",
       "      <td>-0.068147</td>\n",
       "      <td>-0.006596</td>\n",
       "      <td>-0.029133</td>\n",
       "      <td>0.025373</td>\n",
       "      <td>0.018985</td>\n",
       "    </tr>\n",
       "    <tr>\n",
       "      <th>dwelling_time1</th>\n",
       "      <td>-0.010328</td>\n",
       "      <td>1.000000</td>\n",
       "      <td>0.127076</td>\n",
       "      <td>0.094277</td>\n",
       "      <td>0.001113</td>\n",
       "      <td>0.009783</td>\n",
       "      <td>-0.029553</td>\n",
       "      <td>0.014737</td>\n",
       "      <td>-0.018274</td>\n",
       "      <td>-0.012423</td>\n",
       "      <td>0.009457</td>\n",
       "    </tr>\n",
       "    <tr>\n",
       "      <th>sd1</th>\n",
       "      <td>-0.047638</td>\n",
       "      <td>0.127076</td>\n",
       "      <td>1.000000</td>\n",
       "      <td>0.380165</td>\n",
       "      <td>0.005665</td>\n",
       "      <td>0.059138</td>\n",
       "      <td>-0.030369</td>\n",
       "      <td>0.012969</td>\n",
       "      <td>0.015943</td>\n",
       "      <td>-0.024379</td>\n",
       "      <td>0.024993</td>\n",
       "    </tr>\n",
       "    <tr>\n",
       "      <th>mean1</th>\n",
       "      <td>-0.079866</td>\n",
       "      <td>0.094277</td>\n",
       "      <td>0.380165</td>\n",
       "      <td>1.000000</td>\n",
       "      <td>0.069184</td>\n",
       "      <td>0.057714</td>\n",
       "      <td>0.239608</td>\n",
       "      <td>0.016305</td>\n",
       "      <td>0.121022</td>\n",
       "      <td>0.008592</td>\n",
       "      <td>0.099535</td>\n",
       "    </tr>\n",
       "    <tr>\n",
       "      <th>dwelling_time2</th>\n",
       "      <td>-0.020505</td>\n",
       "      <td>0.001113</td>\n",
       "      <td>0.005665</td>\n",
       "      <td>0.069184</td>\n",
       "      <td>1.000000</td>\n",
       "      <td>0.128895</td>\n",
       "      <td>0.150906</td>\n",
       "      <td>0.035521</td>\n",
       "      <td>0.055304</td>\n",
       "      <td>-0.055893</td>\n",
       "      <td>0.006456</td>\n",
       "    </tr>\n",
       "    <tr>\n",
       "      <th>sd2</th>\n",
       "      <td>-0.045755</td>\n",
       "      <td>0.009783</td>\n",
       "      <td>0.059138</td>\n",
       "      <td>0.057714</td>\n",
       "      <td>0.128895</td>\n",
       "      <td>1.000000</td>\n",
       "      <td>0.438943</td>\n",
       "      <td>0.028206</td>\n",
       "      <td>0.147591</td>\n",
       "      <td>-0.429502</td>\n",
       "      <td>-0.000380</td>\n",
       "    </tr>\n",
       "    <tr>\n",
       "      <th>mean2</th>\n",
       "      <td>-0.068147</td>\n",
       "      <td>-0.029553</td>\n",
       "      <td>-0.030369</td>\n",
       "      <td>0.239608</td>\n",
       "      <td>0.150906</td>\n",
       "      <td>0.438943</td>\n",
       "      <td>1.000000</td>\n",
       "      <td>0.051362</td>\n",
       "      <td>0.392870</td>\n",
       "      <td>-0.247271</td>\n",
       "      <td>0.073311</td>\n",
       "    </tr>\n",
       "    <tr>\n",
       "      <th>dwelling_time3</th>\n",
       "      <td>-0.006596</td>\n",
       "      <td>0.014737</td>\n",
       "      <td>0.012969</td>\n",
       "      <td>0.016305</td>\n",
       "      <td>0.035521</td>\n",
       "      <td>0.028206</td>\n",
       "      <td>0.051362</td>\n",
       "      <td>1.000000</td>\n",
       "      <td>0.095772</td>\n",
       "      <td>-0.003798</td>\n",
       "      <td>0.011719</td>\n",
       "    </tr>\n",
       "    <tr>\n",
       "      <th>sd3</th>\n",
       "      <td>-0.029133</td>\n",
       "      <td>-0.018274</td>\n",
       "      <td>0.015943</td>\n",
       "      <td>0.121022</td>\n",
       "      <td>0.055304</td>\n",
       "      <td>0.147591</td>\n",
       "      <td>0.392870</td>\n",
       "      <td>0.095772</td>\n",
       "      <td>1.000000</td>\n",
       "      <td>-0.078570</td>\n",
       "      <td>0.007754</td>\n",
       "    </tr>\n",
       "    <tr>\n",
       "      <th>mean3</th>\n",
       "      <td>0.025373</td>\n",
       "      <td>-0.012423</td>\n",
       "      <td>-0.024379</td>\n",
       "      <td>0.008592</td>\n",
       "      <td>-0.055893</td>\n",
       "      <td>-0.429502</td>\n",
       "      <td>-0.247271</td>\n",
       "      <td>-0.003798</td>\n",
       "      <td>-0.078570</td>\n",
       "      <td>1.000000</td>\n",
       "      <td>0.039638</td>\n",
       "    </tr>\n",
       "    <tr>\n",
       "      <th>label</th>\n",
       "      <td>0.018985</td>\n",
       "      <td>0.009457</td>\n",
       "      <td>0.024993</td>\n",
       "      <td>0.099535</td>\n",
       "      <td>0.006456</td>\n",
       "      <td>-0.000380</td>\n",
       "      <td>0.073311</td>\n",
       "      <td>0.011719</td>\n",
       "      <td>0.007754</td>\n",
       "      <td>0.039638</td>\n",
       "      <td>1.000000</td>\n",
       "    </tr>\n",
       "  </tbody>\n",
       "</table>\n",
       "</div>"
      ],
      "text/plain": [
       "                     transcript_position  dwelling_time1       sd1     mean1  \\\n",
       "transcript_position             1.000000       -0.010328 -0.047638 -0.079866   \n",
       "dwelling_time1                 -0.010328        1.000000  0.127076  0.094277   \n",
       "sd1                            -0.047638        0.127076  1.000000  0.380165   \n",
       "mean1                          -0.079866        0.094277  0.380165  1.000000   \n",
       "dwelling_time2                 -0.020505        0.001113  0.005665  0.069184   \n",
       "sd2                            -0.045755        0.009783  0.059138  0.057714   \n",
       "mean2                          -0.068147       -0.029553 -0.030369  0.239608   \n",
       "dwelling_time3                 -0.006596        0.014737  0.012969  0.016305   \n",
       "sd3                            -0.029133       -0.018274  0.015943  0.121022   \n",
       "mean3                           0.025373       -0.012423 -0.024379  0.008592   \n",
       "label                           0.018985        0.009457  0.024993  0.099535   \n",
       "\n",
       "                     dwelling_time2       sd2     mean2  dwelling_time3  \\\n",
       "transcript_position       -0.020505 -0.045755 -0.068147       -0.006596   \n",
       "dwelling_time1             0.001113  0.009783 -0.029553        0.014737   \n",
       "sd1                        0.005665  0.059138 -0.030369        0.012969   \n",
       "mean1                      0.069184  0.057714  0.239608        0.016305   \n",
       "dwelling_time2             1.000000  0.128895  0.150906        0.035521   \n",
       "sd2                        0.128895  1.000000  0.438943        0.028206   \n",
       "mean2                      0.150906  0.438943  1.000000        0.051362   \n",
       "dwelling_time3             0.035521  0.028206  0.051362        1.000000   \n",
       "sd3                        0.055304  0.147591  0.392870        0.095772   \n",
       "mean3                     -0.055893 -0.429502 -0.247271       -0.003798   \n",
       "label                      0.006456 -0.000380  0.073311        0.011719   \n",
       "\n",
       "                          sd3     mean3     label  \n",
       "transcript_position -0.029133  0.025373  0.018985  \n",
       "dwelling_time1      -0.018274 -0.012423  0.009457  \n",
       "sd1                  0.015943 -0.024379  0.024993  \n",
       "mean1                0.121022  0.008592  0.099535  \n",
       "dwelling_time2       0.055304 -0.055893  0.006456  \n",
       "sd2                  0.147591 -0.429502 -0.000380  \n",
       "mean2                0.392870 -0.247271  0.073311  \n",
       "dwelling_time3       0.095772 -0.003798  0.011719  \n",
       "sd3                  1.000000 -0.078570  0.007754  \n",
       "mean3               -0.078570  1.000000  0.039638  \n",
       "label                0.007754  0.039638  1.000000  "
      ]
     },
     "execution_count": 29,
     "metadata": {},
     "output_type": "execute_result"
    }
   ],
   "source": [
    "#Correlation \n",
    "\n",
    "df.corr()"
   ]
  },
  {
   "cell_type": "code",
   "execution_count": 30,
   "id": "95577ab9",
   "metadata": {},
   "outputs": [
    {
     "data": {
      "text/plain": [
       "<AxesSubplot:>"
      ]
     },
     "execution_count": 30,
     "metadata": {},
     "output_type": "execute_result"
    },
    {
     "data": {
      "image/png": "[encoded data removed]",
      "text/plain": [
       "<Figure size 640x480 with 2 Axes>"
      ]
     },
     "metadata": {},
     "output_type": "display_data"
    }
   ],
   "source": [
    "#Correlation plot\n",
    "\n",
    "sns.heatmap(df.corr())"
   ]
  },
  {
   "cell_type": "code",
   "execution_count": 31,
   "id": "650279ee",
   "metadata": {},
   "outputs": [
    {
     "data": {
      "text/plain": [
       "<AxesSubplot:>"
      ]
     },
     "execution_count": 31,
     "metadata": {},
     "output_type": "execute_result"
    },
    {
     "data": {
      "image/png": "[encoded data removed]",
      "text/plain": [
       "<Figure size 640x480 with 1 Axes>"
      ]
     },
     "metadata": {},
     "output_type": "display_data"
    }
   ],
   "source": [
    "#Boxplot\n",
    "\n",
    "df[['sd1']].boxplot()"
   ]
  },
  {
   "cell_type": "code",
   "execution_count": 32,
   "id": "5f971c09",
   "metadata": {},
   "outputs": [
    {
     "data": {
      "text/plain": [
       "<AxesSubplot:>"
      ]
     },
     "execution_count": 32,
     "metadata": {},
     "output_type": "execute_result"
    },
    {
     "data": {
      "image/png": "[encoded data removed]",
      "text/plain": [
       "<Figure size 640x480 with 1 Axes>"
      ]
     },
     "metadata": {},
     "output_type": "display_data"
    }
   ],
   "source": [
    "df[['dwelling_time1']].boxplot()"
   ]
  },
  {
   "cell_type": "code",
   "execution_count": 33,
   "id": "25739abe",
   "metadata": {},
   "outputs": [
    {
     "data": {
      "text/plain": [
       "<AxesSubplot:>"
      ]
     },
     "execution_count": 33,
     "metadata": {},
     "output_type": "execute_result"
    },
    {
     "data": {
      "image/png": "[encoded data removed]",
      "text/plain": [
       "<Figure size 640x480 with 1 Axes>"
      ]
     },
     "metadata": {},
     "output_type": "display_data"
    }
   ],
   "source": [
    "df[['mean1']].boxplot()"
   ]
  },
  {
   "cell_type": "code",
   "execution_count": 34,
   "id": "00a44836",
   "metadata": {},
   "outputs": [
    {
     "data": {
      "text/plain": [
       "<AxesSubplot:>"
      ]
     },
     "execution_count": 34,
     "metadata": {},
     "output_type": "execute_result"
    },
    {
     "data": {
      "image/png": "[encoded data removed]",
      "text/plain": [
       "<Figure size 640x480 with 1 Axes>"
      ]
     },
     "metadata": {},
     "output_type": "display_data"
    }
   ],
   "source": [
    "df[['dwelling_time2']].boxplot()"
   ]
  },
  {
   "cell_type": "code",
   "execution_count": 35,
   "id": "3f83c537",
   "metadata": {},
   "outputs": [
    {
     "data": {
      "text/plain": [
       "<AxesSubplot:>"
      ]
     },
     "execution_count": 35,
     "metadata": {},
     "output_type": "execute_result"
    },
    {
     "data": {
      "image/png": "[encoded data removed]",
      "text/plain": [
       "<Figure size 640x480 with 1 Axes>"
      ]
     },
     "metadata": {},
     "output_type": "display_data"
    }
   ],
   "source": [
    "df[['sd2']].boxplot()"
   ]
  },
  {
   "cell_type": "code",
   "execution_count": 36,
   "id": "3369695c",
   "metadata": {},
   "outputs": [
    {
     "data": {
      "text/plain": [
       "<AxesSubplot:>"
      ]
     },
     "execution_count": 36,
     "metadata": {},
     "output_type": "execute_result"
    },
    {
     "data": {
      "image/png": "[encoded data removed]",
      "text/plain": [
       "<Figure size 640x480 with 1 Axes>"
      ]
     },
     "metadata": {},
     "output_type": "display_data"
    }
   ],
   "source": [
    "df[['mean2']].boxplot()"
   ]
  },
  {
   "cell_type": "code",
   "execution_count": 37,
   "id": "fa82f036",
   "metadata": {},
   "outputs": [
    {
     "data": {
      "text/plain": [
       "<AxesSubplot:>"
      ]
     },
     "execution_count": 37,
     "metadata": {},
     "output_type": "execute_result"
    },
    {
     "data": {
      "image/png": "[encoded data removed]",
      "text/plain": [
       "<Figure size 640x480 with 1 Axes>"
      ]
     },
     "metadata": {},
     "output_type": "display_data"
    }
   ],
   "source": [
    "df[['dwelling_time3']].boxplot()"
   ]
  },
  {
   "cell_type": "code",
   "execution_count": 38,
   "id": "d793cc52",
   "metadata": {},
   "outputs": [
    {
     "data": {
      "text/plain": [
       "<AxesSubplot:>"
      ]
     },
     "execution_count": 38,
     "metadata": {},
     "output_type": "execute_result"
    },
    {
     "data": {
      "image/png": "[encoded data removed]",
      "text/plain": [
       "<Figure size 640x480 with 1 Axes>"
      ]
     },
     "metadata": {},
     "output_type": "display_data"
    }
   ],
   "source": [
    "df[['sd3']].boxplot()"
   ]
  },
  {
   "cell_type": "code",
   "execution_count": 39,
   "id": "ad833198",
   "metadata": {},
   "outputs": [
    {
     "data": {
      "text/plain": [
       "<AxesSubplot:>"
      ]
     },
     "execution_count": 39,
     "metadata": {},
     "output_type": "execute_result"
    },
    {
     "data": {
      "image/png": "[encoded data removed]",
      "text/plain": [
       "<Figure size 640x480 with 1 Axes>"
      ]
     },
     "metadata": {},
     "output_type": "display_data"
    }
   ],
   "source": [
    "df[['mean3']].boxplot()"
   ]
  },
  {
   "cell_type": "code",
   "execution_count": null,
   "id": "ceeb1381",
   "metadata": {},
   "outputs": [],
   "source": []
  }
 ],
 "metadata": {
  "kernelspec": {
   "display_name": "Python 3 (ipykernel)",
   "language": "python",
   "name": "python3"
  },
  "language_info": {
   "codemirror_mode": {
    "name": "ipython",
    "version": 3
   },
   "file_extension": ".py",
   "mimetype": "text/x-python",
   "name": "python",
   "nbconvert_exporter": "python",
   "pygments_lexer": "ipython3",
   "version": "3.7.16"
  }
 },
 "nbformat": 4,
 "nbformat_minor": 5
}
